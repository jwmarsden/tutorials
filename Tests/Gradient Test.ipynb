{
 "cells": [
  {
   "cell_type": "markdown",
   "id": "91575bcc",
   "metadata": {},
   "source": [
    "# Linear Gradient Test"
   ]
  },
  {
   "cell_type": "code",
   "execution_count": 3,
   "id": "fd9e124a",
   "metadata": {},
   "outputs": [
    {
     "data": {
      "application/vnd.jupyter.widget-view+json": {
       "model_id": "d1e00cb35c194749ab537ba5f57bc3b2",
       "version_major": 2,
       "version_minor": 0
      },
      "text/plain": [
       "Canvas(height=50)"
      ]
     },
     "metadata": {},
     "output_type": "display_data"
    }
   ],
   "source": [
    "from ipycanvas import Canvas\n",
    "\n",
    "canvas = Canvas(width=700, height=50)\n",
    "\n",
    "gradient = canvas.create_linear_gradient(\n",
    "    0, 0, # Start position (x0, y0)\n",
    "    700, 0, # End position (x1, y1)\n",
    "    # List of color stops\n",
    "    [\n",
    "        (0, 'red'),\n",
    "        (1 / 6, 'orange'), \n",
    "        (2 / 6, 'yellow'),\n",
    "        (3 / 6, 'green'),\n",
    "        (4 / 6, 'blue'),\n",
    "        (5 / 6, '#4B0082'),\n",
    "        (1, 'violet')\n",
    "    ]\n",
    ")\n",
    "\n",
    "canvas.fill_style = gradient\n",
    "\n",
    "canvas.fill_rect(0, 0, 700, 50)\n",
    "\n",
    "canvas\n"
   ]
  },
  {
   "cell_type": "code",
   "execution_count": null,
   "id": "35354796",
   "metadata": {},
   "outputs": [],
   "source": []
  }
 ],
 "metadata": {
  "kernelspec": {
   "display_name": "Python 3",
   "language": "python",
   "name": "python3"
  },
  "language_info": {
   "codemirror_mode": {
    "name": "ipython",
    "version": 3
   },
   "file_extension": ".py",
   "mimetype": "text/x-python",
   "name": "python",
   "nbconvert_exporter": "python",
   "pygments_lexer": "ipython3",
   "version": "3.9.5"
  }
 },
 "nbformat": 4,
 "nbformat_minor": 5
}
